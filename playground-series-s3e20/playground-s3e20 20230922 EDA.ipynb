{
 "cells": [
  {
   "cell_type": "code",
   "execution_count": 1,
   "metadata": {},
   "outputs": [
    {
     "ename": "FileNotFoundError",
     "evalue": "[WinError 3] 지정된 경로를 찾을 수 없습니다: 'C:/Users/최민석/OneDrive - UOS/바탕 화면/대학생활/대외활동/Kaggle/playground-series-s3e20'",
     "output_type": "error",
     "traceback": [
      "\u001b[1;31m---------------------------------------------------------------------------\u001b[0m",
      "\u001b[1;31mFileNotFoundError\u001b[0m                         Traceback (most recent call last)",
      "\u001b[1;32mc:\\Users\\MINSEOK\\Desktop\\대학생활\\대외활동\\kaggle\\playground-series-s3e20\\playground-s3e20 20230922 EDA.ipynb 셀 1\u001b[0m line \u001b[0;36m6\n\u001b[0;32m      <a href='vscode-notebook-cell:/c%3A/Users/MINSEOK/Desktop/%EB%8C%80%ED%95%99%EC%83%9D%ED%99%9C/%EB%8C%80%EC%99%B8%ED%99%9C%EB%8F%99/kaggle/playground-series-s3e20/playground-s3e20%2020230922%20EDA.ipynb#W0sZmlsZQ%3D%3D?line=2'>3</a>\u001b[0m \u001b[39mimport\u001b[39;00m \u001b[39mos\u001b[39;00m\n\u001b[0;32m      <a href='vscode-notebook-cell:/c%3A/Users/MINSEOK/Desktop/%EB%8C%80%ED%95%99%EC%83%9D%ED%99%9C/%EB%8C%80%EC%99%B8%ED%99%9C%EB%8F%99/kaggle/playground-series-s3e20/playground-s3e20%2020230922%20EDA.ipynb#W0sZmlsZQ%3D%3D?line=3'>4</a>\u001b[0m \u001b[39mimport\u001b[39;00m \u001b[39mseaborn\u001b[39;00m\n\u001b[1;32m----> <a href='vscode-notebook-cell:/c%3A/Users/MINSEOK/Desktop/%EB%8C%80%ED%95%99%EC%83%9D%ED%99%9C/%EB%8C%80%EC%99%B8%ED%99%9C%EB%8F%99/kaggle/playground-series-s3e20/playground-s3e20%2020230922%20EDA.ipynb#W0sZmlsZQ%3D%3D?line=5'>6</a>\u001b[0m os\u001b[39m.\u001b[39;49mchdir(\u001b[39m'\u001b[39;49m\u001b[39mC:/Users/최민석/OneDrive - UOS/바탕 화면/대학생활/대외활동/Kaggle/playground-series-s3e20\u001b[39;49m\u001b[39m'\u001b[39;49m)\n\u001b[0;32m      <a href='vscode-notebook-cell:/c%3A/Users/MINSEOK/Desktop/%EB%8C%80%ED%95%99%EC%83%9D%ED%99%9C/%EB%8C%80%EC%99%B8%ED%99%9C%EB%8F%99/kaggle/playground-series-s3e20/playground-s3e20%2020230922%20EDA.ipynb#W0sZmlsZQ%3D%3D?line=6'>7</a>\u001b[0m train\u001b[39m=\u001b[39mpd\u001b[39m.\u001b[39mread_csv(\u001b[39m'\u001b[39m\u001b[39mtrain.csv\u001b[39m\u001b[39m'\u001b[39m)\n\u001b[0;32m      <a href='vscode-notebook-cell:/c%3A/Users/MINSEOK/Desktop/%EB%8C%80%ED%95%99%EC%83%9D%ED%99%9C/%EB%8C%80%EC%99%B8%ED%99%9C%EB%8F%99/kaggle/playground-series-s3e20/playground-s3e20%2020230922%20EDA.ipynb#W0sZmlsZQ%3D%3D?line=7'>8</a>\u001b[0m train\u001b[39m.\u001b[39mhead()\n",
      "\u001b[1;31mFileNotFoundError\u001b[0m: [WinError 3] 지정된 경로를 찾을 수 없습니다: 'C:/Users/최민석/OneDrive - UOS/바탕 화면/대학생활/대외활동/Kaggle/playground-series-s3e20'"
     ]
    }
   ],
   "source": [
    "import pandas as pd\n",
    "import numpy as np\n",
    "import os\n",
    "import seaborn\n",
    "\n",
    "os.chdir('C:/Users/최민석/OneDrive - UOS/바탕 화면/대학생활/대외활동/Kaggle/playground-series-s3e20')\n",
    "train=pd.read_csv('train.csv')\n",
    "train.head()\n"
   ]
  },
  {
   "cell_type": "code",
   "execution_count": null,
   "metadata": {},
   "outputs": [],
   "source": [
    "train.info()"
   ]
  }
 ],
 "metadata": {
  "kernelspec": {
   "display_name": "DL",
   "language": "python",
   "name": "python3"
  },
  "language_info": {
   "codemirror_mode": {
    "name": "ipython",
    "version": 3
   },
   "file_extension": ".py",
   "mimetype": "text/x-python",
   "name": "python",
   "nbconvert_exporter": "python",
   "pygments_lexer": "ipython3",
   "version": "3.9.17"
  },
  "orig_nbformat": 4
 },
 "nbformat": 4,
 "nbformat_minor": 2
}
