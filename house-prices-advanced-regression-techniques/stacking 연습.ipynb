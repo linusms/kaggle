{
 "cells": [
  {
   "cell_type": "code",
   "execution_count": 1,
   "metadata": {},
   "outputs": [],
   "source": [
    "import pandas as pd\n",
    "import numpy as np\n",
    "import matplotlib.pyplot as plt\n",
    "import seaborn as sns\n",
    "from collections import Counter\n",
    "import os\n",
    "\n",
    "os.chdir('C:/Users/MINSEOK/Desktop/대학생활/대외활동/kaggle/house-prices-advanced-regression-techniques')\n",
    "house_price=pd.read_csv('train.csv')\n",
    "final_test_data=pd.read_csv('test.csv')\n",
    "sample_sub=pd.read_csv('sample_submission.csv')"
   ]
  },
  {
   "cell_type": "code",
   "execution_count": 2,
   "metadata": {},
   "outputs": [
    {
     "name": "stdout",
     "output_type": "stream",
     "text": [
      "['MSSubClass', 'LotFrontage', 'LotArea', 'OverallQual', 'OverallCond', 'YearBuilt', 'YearRemodAdd', 'MasVnrArea', 'BsmtFinSF1', 'BsmtFinSF2', 'BsmtUnfSF', 'TotalBsmtSF', '1stFlrSF', '2ndFlrSF', 'LowQualFinSF', 'GrLivArea', 'BsmtFullBath', 'BsmtHalfBath', 'FullBath', 'HalfBath', 'BedroomAbvGr', 'KitchenAbvGr', 'TotRmsAbvGrd', 'Fireplaces', 'GarageYrBlt', 'GarageCars', 'GarageArea', 'WoodDeckSF', 'OpenPorchSF', 'EnclosedPorch', '3SsnPorch', 'ScreenPorch', 'PoolArea', 'MiscVal', 'MoSold', 'YrSold', 'SalePrice']\n",
      "<class 'list'>\n"
     ]
    }
   ],
   "source": [
    "num_col=list(house_price.describe().columns)\n",
    "num_col.remove('Id')\n",
    "print(num_col)\n",
    "print(type(num_col))"
   ]
  },
  {
   "cell_type": "code",
   "execution_count": 3,
   "metadata": {},
   "outputs": [
    {
     "name": "stdout",
     "output_type": "stream",
     "text": [
      "['Id', 'MSZoning', 'Street', 'Alley', 'LotShape', 'LandContour', 'Utilities', 'LotConfig', 'LandSlope', 'Neighborhood', 'Condition1', 'Condition2', 'BldgType', 'HouseStyle', 'RoofStyle', 'RoofMatl', 'Exterior1st', 'Exterior2nd', 'MasVnrType', 'ExterQual', 'ExterCond', 'Foundation', 'BsmtQual', 'BsmtCond', 'BsmtExposure', 'BsmtFinType1', 'BsmtFinType2', 'Heating', 'HeatingQC', 'CentralAir', 'Electrical', 'KitchenQual', 'Functional', 'FireplaceQu', 'GarageType', 'GarageFinish', 'GarageQual', 'GarageCond', 'PavedDrive', 'PoolQC', 'Fence', 'MiscFeature', 'SaleType', 'SaleCondition']\n"
     ]
    }
   ],
   "source": [
    "cat_col=list(house_price.columns)\n",
    "for col in num_col:\n",
    "  cat_col.remove(col)\n",
    "print(cat_col)"
   ]
  },
  {
   "cell_type": "code",
   "execution_count": 4,
   "metadata": {},
   "outputs": [],
   "source": [
    "tr_col=['GarageArea','GarageCars','WoodDeckSF','OpenPorchSF','MSSubClass','LotFrontage']"
   ]
  },
  {
   "cell_type": "code",
   "execution_count": 27,
   "metadata": {},
   "outputs": [
    {
     "name": "stdout",
     "output_type": "stream",
     "text": [
      "(1168, 6) (1168,) (292, 6) (292,)\n"
     ]
    }
   ],
   "source": [
    "from sklearn.model_selection import train_test_split\n",
    "\n",
    "X_train, X_test, y_train, y_test=train_test_split(house_price[tr_col], house_price['SalePrice'], test_size=0.2, shuffle=True)\n",
    "print(X_train.shape, y_train.shape, X_test.shape, y_test.shape)\n",
    "X_train.reset_index(drop=True, inplace=True)\n",
    "X_test.reset_index(drop=True, inplace=True)\n",
    "y_train.reset_index(drop=True, inplace=True)\n",
    "y_test.reset_index(drop=True, inplace=True)"
   ]
  },
  {
   "cell_type": "code",
   "execution_count": 76,
   "metadata": {},
   "outputs": [],
   "source": [
    "from sklearn.model_selection import KFold\n",
    "\n",
    "def Stacking_Data_Loader(model, model_name, X_train, Y_train, X_test, fold):\n",
    "    '''\n",
    "    Put your train, test datasets and fold value!\n",
    "    This function returns train, test datasets for stacking ensemble :)\n",
    "    '''\n",
    "\n",
    "    stk = KFold(n_splits = fold, shuffle = True)\n",
    "    \n",
    "    # Declaration Pred Datasets\n",
    "    train_fold_pred = np.zeros((X_train.shape[0], 1))\n",
    "    test_pred = np.zeros((X_test.shape[0], fold))\n",
    "    \n",
    "    for counter, (train_index, valid_index) in enumerate(stk.split(X_train, Y_train)):\n",
    "        x_train= X_train.iloc[train_index,:]\n",
    "        y_train= Y_train[train_index]\n",
    "        x_valid= X_train.iloc[valid_index,:]\n",
    "        y_valid= Y_train[valid_index]\n",
    "\n",
    "        print('------------ Fold', counter+1, 'Start! ------------')\n",
    "        if model_name == 'cat':\n",
    "            model.fit(x_train, y_train, eval_set=[(x_valid, y_valid)])\n",
    "        elif model_name == 'xgb':\n",
    "            model.fit(x_train, y_train, eval_set=[(x_valid, y_valid)], eval_metric = 'auc', verbose = 500, early_stopping_rounds = 200)\n",
    "        else:\n",
    "            model.fit(x_train, y_train, eval_set=[(x_valid, y_valid)], eval_metric = 'auc', verbose = 100, early_stopping_rounds = 200)\n",
    "            \n",
    "        print('------------ Fold', counter+1, 'Done! ------------')\n",
    "        \n",
    "        train_fold_pred[valid_index] = model.predict(x_valid).reshape(-1,1)\n",
    "        test_pred[:, counter] = model.predict(X_test)\n",
    "    \n",
    "    test_pred_mean = np.mean(test_pred, axis = 1)\n",
    "\n",
    "    print('Done!')\n",
    "    \n",
    "    return train_fold_pred, test_pred_mean\n"
   ]
  },
  {
   "cell_type": "code",
   "execution_count": 8,
   "metadata": {},
   "outputs": [],
   "source": [
    "import xgboost as xgb\n",
    "\n",
    "xgb1_params = {\n",
    "      'tree_method' : 'gpu_hist', \n",
    "      'learning_rate' : 0.01,\n",
    "      'n_estimators' : 50000,\n",
    "      'colsample_bytree' : 0.3,\n",
    "      'subsample' : 0.75,\n",
    "      'reg_alpha' : 19,\n",
    "      'reg_lambda' : 19,\n",
    "      'max_depth' : 5, \n",
    "      'predictor' : 'gpu_predictor'\n",
    "}\n",
    "\n",
    "xgb1=xgb.XGBRegressor(**xgb1_params)"
   ]
  },
  {
   "cell_type": "code",
   "execution_count": 77,
   "metadata": {},
   "outputs": [
    {
     "name": "stdout",
     "output_type": "stream",
     "text": [
      "------------ Fold 1 Start! ------------\n",
      "[0]\tvalidation_0-auc:nan\n"
     ]
    },
    {
     "name": "stderr",
     "output_type": "stream",
     "text": [
      "c:\\Users\\MINSEOK\\anaconda3\\envs\\torch\\lib\\site-packages\\xgboost\\data.py:335: FutureWarning: is_sparse is deprecated and will be removed in a future version. Check `isinstance(dtype, pd.SparseDtype)` instead.\n",
      "  if is_sparse(dtype):\n",
      "c:\\Users\\MINSEOK\\anaconda3\\envs\\torch\\lib\\site-packages\\xgboost\\data.py:338: FutureWarning: is_categorical_dtype is deprecated and will be removed in a future version. Use isinstance(dtype, CategoricalDtype) instead\n",
      "  is_categorical_dtype(dtype) or is_pa_ext_categorical_dtype(dtype)\n",
      "c:\\Users\\MINSEOK\\anaconda3\\envs\\torch\\lib\\site-packages\\xgboost\\data.py:384: FutureWarning: is_categorical_dtype is deprecated and will be removed in a future version. Use isinstance(dtype, CategoricalDtype) instead\n",
      "  if is_categorical_dtype(dtype):\n",
      "c:\\Users\\MINSEOK\\anaconda3\\envs\\torch\\lib\\site-packages\\xgboost\\data.py:359: FutureWarning: is_categorical_dtype is deprecated and will be removed in a future version. Use isinstance(dtype, CategoricalDtype) instead\n",
      "  return is_int or is_bool or is_float or is_categorical_dtype(dtype)\n",
      "c:\\Users\\MINSEOK\\anaconda3\\envs\\torch\\lib\\site-packages\\xgboost\\data.py:520: FutureWarning: is_sparse is deprecated and will be removed in a future version. Check `isinstance(dtype, pd.SparseDtype)` instead.\n",
      "  if is_sparse(data):\n",
      "c:\\Users\\MINSEOK\\anaconda3\\envs\\torch\\lib\\site-packages\\xgboost\\data.py:335: FutureWarning: is_sparse is deprecated and will be removed in a future version. Check `isinstance(dtype, pd.SparseDtype)` instead.\n",
      "  if is_sparse(dtype):\n",
      "c:\\Users\\MINSEOK\\anaconda3\\envs\\torch\\lib\\site-packages\\xgboost\\data.py:338: FutureWarning: is_categorical_dtype is deprecated and will be removed in a future version. Use isinstance(dtype, CategoricalDtype) instead\n",
      "  is_categorical_dtype(dtype) or is_pa_ext_categorical_dtype(dtype)\n",
      "c:\\Users\\MINSEOK\\anaconda3\\envs\\torch\\lib\\site-packages\\xgboost\\data.py:384: FutureWarning: is_categorical_dtype is deprecated and will be removed in a future version. Use isinstance(dtype, CategoricalDtype) instead\n",
      "  if is_categorical_dtype(dtype):\n",
      "c:\\Users\\MINSEOK\\anaconda3\\envs\\torch\\lib\\site-packages\\xgboost\\data.py:359: FutureWarning: is_categorical_dtype is deprecated and will be removed in a future version. Use isinstance(dtype, CategoricalDtype) instead\n",
      "  return is_int or is_bool or is_float or is_categorical_dtype(dtype)\n",
      "c:\\Users\\MINSEOK\\anaconda3\\envs\\torch\\lib\\site-packages\\xgboost\\data.py:520: FutureWarning: is_sparse is deprecated and will be removed in a future version. Check `isinstance(dtype, pd.SparseDtype)` instead.\n",
      "  if is_sparse(data):\n",
      "c:\\Users\\MINSEOK\\anaconda3\\envs\\torch\\lib\\site-packages\\xgboost\\sklearn.py:885: UserWarning: `eval_metric` in `fit` method is deprecated for better compatibility with scikit-learn, use `eval_metric` in constructor or`set_params` instead.\n",
      "  warnings.warn(\n",
      "c:\\Users\\MINSEOK\\anaconda3\\envs\\torch\\lib\\site-packages\\xgboost\\sklearn.py:885: UserWarning: `early_stopping_rounds` in `fit` method is deprecated for better compatibility with scikit-learn, use `early_stopping_rounds` in constructor or`set_params` instead.\n",
      "  warnings.warn(\n",
      "c:\\Users\\MINSEOK\\anaconda3\\envs\\torch\\lib\\site-packages\\xgboost\\core.py:160: UserWarning: [18:12:51] WARNING: C:\\buildkite-agent\\builds\\buildkite-windows-cpu-autoscaling-group-i-0cec3277c4d9d0165-1\\xgboost\\xgboost-ci-windows\\src\\common\\error_msg.cc:27: The tree method `gpu_hist` is deprecated since 2.0.0. To use GPU training, set the `device` parameter to CUDA instead.\n",
      "\n",
      "    E.g. tree_method = \"hist\", device = \"cuda\"\n",
      "\n",
      "  warnings.warn(smsg, UserWarning)\n",
      "c:\\Users\\MINSEOK\\anaconda3\\envs\\torch\\lib\\site-packages\\xgboost\\core.py:160: UserWarning: [18:12:51] WARNING: C:\\buildkite-agent\\builds\\buildkite-windows-cpu-autoscaling-group-i-0cec3277c4d9d0165-1\\xgboost\\xgboost-ci-windows\\src\\learner.cc:742: \n",
      "Parameters: { \"predictor\" } are not used.\n",
      "\n",
      "  warnings.warn(smsg, UserWarning)\n",
      "c:\\Users\\MINSEOK\\anaconda3\\envs\\torch\\lib\\site-packages\\xgboost\\core.py:160: UserWarning: [18:12:51] WARNING: C:\\buildkite-agent\\builds\\buildkite-windows-cpu-autoscaling-group-i-0cec3277c4d9d0165-1\\xgboost\\xgboost-ci-windows\\src\\metric\\auc.cc:320: Dataset is empty, or contains only positive or negative samples.\n",
      "  warnings.warn(smsg, UserWarning)\n",
      "c:\\Users\\MINSEOK\\anaconda3\\envs\\torch\\lib\\site-packages\\xgboost\\core.py:160: UserWarning: [18:12:52] WARNING: C:\\buildkite-agent\\builds\\buildkite-windows-cpu-autoscaling-group-i-0cec3277c4d9d0165-1\\xgboost\\xgboost-ci-windows\\src\\metric\\auc.cc:320: Dataset is empty, or contains only positive or negative samples.\n",
      "  warnings.warn(smsg, UserWarning)\n"
     ]
    },
    {
     "name": "stdout",
     "output_type": "stream",
     "text": [
      "[200]\tvalidation_0-auc:nan\n",
      "------------ Fold 1 Done! ------------\n",
      "------------ Fold 2 Start! ------------\n",
      "[0]\tvalidation_0-auc:nan\n"
     ]
    },
    {
     "name": "stderr",
     "output_type": "stream",
     "text": [
      "c:\\Users\\MINSEOK\\anaconda3\\envs\\torch\\lib\\site-packages\\xgboost\\data.py:335: FutureWarning: is_sparse is deprecated and will be removed in a future version. Check `isinstance(dtype, pd.SparseDtype)` instead.\n",
      "  if is_sparse(dtype):\n",
      "c:\\Users\\MINSEOK\\anaconda3\\envs\\torch\\lib\\site-packages\\xgboost\\data.py:338: FutureWarning: is_categorical_dtype is deprecated and will be removed in a future version. Use isinstance(dtype, CategoricalDtype) instead\n",
      "  is_categorical_dtype(dtype) or is_pa_ext_categorical_dtype(dtype)\n",
      "c:\\Users\\MINSEOK\\anaconda3\\envs\\torch\\lib\\site-packages\\xgboost\\data.py:384: FutureWarning: is_categorical_dtype is deprecated and will be removed in a future version. Use isinstance(dtype, CategoricalDtype) instead\n",
      "  if is_categorical_dtype(dtype):\n",
      "c:\\Users\\MINSEOK\\anaconda3\\envs\\torch\\lib\\site-packages\\xgboost\\data.py:359: FutureWarning: is_categorical_dtype is deprecated and will be removed in a future version. Use isinstance(dtype, CategoricalDtype) instead\n",
      "  return is_int or is_bool or is_float or is_categorical_dtype(dtype)\n",
      "c:\\Users\\MINSEOK\\anaconda3\\envs\\torch\\lib\\site-packages\\xgboost\\core.py:160: UserWarning: [18:12:52] WARNING: C:\\buildkite-agent\\builds\\buildkite-windows-cpu-autoscaling-group-i-0cec3277c4d9d0165-1\\xgboost\\xgboost-ci-windows\\src\\common\\error_msg.cc:27: The tree method `gpu_hist` is deprecated since 2.0.0. To use GPU training, set the `device` parameter to CUDA instead.\n",
      "\n",
      "    E.g. tree_method = \"hist\", device = \"cuda\"\n",
      "\n",
      "  warnings.warn(smsg, UserWarning)\n",
      "c:\\Users\\MINSEOK\\anaconda3\\envs\\torch\\lib\\site-packages\\xgboost\\data.py:335: FutureWarning: is_sparse is deprecated and will be removed in a future version. Check `isinstance(dtype, pd.SparseDtype)` instead.\n",
      "  if is_sparse(dtype):\n",
      "c:\\Users\\MINSEOK\\anaconda3\\envs\\torch\\lib\\site-packages\\xgboost\\data.py:338: FutureWarning: is_categorical_dtype is deprecated and will be removed in a future version. Use isinstance(dtype, CategoricalDtype) instead\n",
      "  is_categorical_dtype(dtype) or is_pa_ext_categorical_dtype(dtype)\n",
      "c:\\Users\\MINSEOK\\anaconda3\\envs\\torch\\lib\\site-packages\\xgboost\\data.py:384: FutureWarning: is_categorical_dtype is deprecated and will be removed in a future version. Use isinstance(dtype, CategoricalDtype) instead\n",
      "  if is_categorical_dtype(dtype):\n",
      "c:\\Users\\MINSEOK\\anaconda3\\envs\\torch\\lib\\site-packages\\xgboost\\data.py:359: FutureWarning: is_categorical_dtype is deprecated and will be removed in a future version. Use isinstance(dtype, CategoricalDtype) instead\n",
      "  return is_int or is_bool or is_float or is_categorical_dtype(dtype)\n",
      "c:\\Users\\MINSEOK\\anaconda3\\envs\\torch\\lib\\site-packages\\xgboost\\data.py:335: FutureWarning: is_sparse is deprecated and will be removed in a future version. Check `isinstance(dtype, pd.SparseDtype)` instead.\n",
      "  if is_sparse(dtype):\n",
      "c:\\Users\\MINSEOK\\anaconda3\\envs\\torch\\lib\\site-packages\\xgboost\\data.py:338: FutureWarning: is_categorical_dtype is deprecated and will be removed in a future version. Use isinstance(dtype, CategoricalDtype) instead\n",
      "  is_categorical_dtype(dtype) or is_pa_ext_categorical_dtype(dtype)\n",
      "c:\\Users\\MINSEOK\\anaconda3\\envs\\torch\\lib\\site-packages\\xgboost\\data.py:384: FutureWarning: is_categorical_dtype is deprecated and will be removed in a future version. Use isinstance(dtype, CategoricalDtype) instead\n",
      "  if is_categorical_dtype(dtype):\n",
      "c:\\Users\\MINSEOK\\anaconda3\\envs\\torch\\lib\\site-packages\\xgboost\\data.py:359: FutureWarning: is_categorical_dtype is deprecated and will be removed in a future version. Use isinstance(dtype, CategoricalDtype) instead\n",
      "  return is_int or is_bool or is_float or is_categorical_dtype(dtype)\n",
      "c:\\Users\\MINSEOK\\anaconda3\\envs\\torch\\lib\\site-packages\\xgboost\\data.py:520: FutureWarning: is_sparse is deprecated and will be removed in a future version. Check `isinstance(dtype, pd.SparseDtype)` instead.\n",
      "  if is_sparse(data):\n",
      "c:\\Users\\MINSEOK\\anaconda3\\envs\\torch\\lib\\site-packages\\xgboost\\data.py:335: FutureWarning: is_sparse is deprecated and will be removed in a future version. Check `isinstance(dtype, pd.SparseDtype)` instead.\n",
      "  if is_sparse(dtype):\n",
      "c:\\Users\\MINSEOK\\anaconda3\\envs\\torch\\lib\\site-packages\\xgboost\\data.py:338: FutureWarning: is_categorical_dtype is deprecated and will be removed in a future version. Use isinstance(dtype, CategoricalDtype) instead\n",
      "  is_categorical_dtype(dtype) or is_pa_ext_categorical_dtype(dtype)\n",
      "c:\\Users\\MINSEOK\\anaconda3\\envs\\torch\\lib\\site-packages\\xgboost\\data.py:384: FutureWarning: is_categorical_dtype is deprecated and will be removed in a future version. Use isinstance(dtype, CategoricalDtype) instead\n",
      "  if is_categorical_dtype(dtype):\n",
      "c:\\Users\\MINSEOK\\anaconda3\\envs\\torch\\lib\\site-packages\\xgboost\\data.py:359: FutureWarning: is_categorical_dtype is deprecated and will be removed in a future version. Use isinstance(dtype, CategoricalDtype) instead\n",
      "  return is_int or is_bool or is_float or is_categorical_dtype(dtype)\n",
      "c:\\Users\\MINSEOK\\anaconda3\\envs\\torch\\lib\\site-packages\\xgboost\\data.py:520: FutureWarning: is_sparse is deprecated and will be removed in a future version. Check `isinstance(dtype, pd.SparseDtype)` instead.\n",
      "  if is_sparse(data):\n",
      "c:\\Users\\MINSEOK\\anaconda3\\envs\\torch\\lib\\site-packages\\xgboost\\sklearn.py:885: UserWarning: `eval_metric` in `fit` method is deprecated for better compatibility with scikit-learn, use `eval_metric` in constructor or`set_params` instead.\n",
      "  warnings.warn(\n",
      "c:\\Users\\MINSEOK\\anaconda3\\envs\\torch\\lib\\site-packages\\xgboost\\sklearn.py:885: UserWarning: `early_stopping_rounds` in `fit` method is deprecated for better compatibility with scikit-learn, use `early_stopping_rounds` in constructor or`set_params` instead.\n",
      "  warnings.warn(\n",
      "c:\\Users\\MINSEOK\\anaconda3\\envs\\torch\\lib\\site-packages\\xgboost\\core.py:160: UserWarning: [18:12:52] WARNING: C:\\buildkite-agent\\builds\\buildkite-windows-cpu-autoscaling-group-i-0cec3277c4d9d0165-1\\xgboost\\xgboost-ci-windows\\src\\common\\error_msg.cc:27: The tree method `gpu_hist` is deprecated since 2.0.0. To use GPU training, set the `device` parameter to CUDA instead.\n",
      "\n",
      "    E.g. tree_method = \"hist\", device = \"cuda\"\n",
      "\n",
      "  warnings.warn(smsg, UserWarning)\n",
      "c:\\Users\\MINSEOK\\anaconda3\\envs\\torch\\lib\\site-packages\\xgboost\\core.py:160: UserWarning: [18:12:52] WARNING: C:\\buildkite-agent\\builds\\buildkite-windows-cpu-autoscaling-group-i-0cec3277c4d9d0165-1\\xgboost\\xgboost-ci-windows\\src\\learner.cc:742: \n",
      "Parameters: { \"predictor\" } are not used.\n",
      "\n",
      "  warnings.warn(smsg, UserWarning)\n",
      "c:\\Users\\MINSEOK\\anaconda3\\envs\\torch\\lib\\site-packages\\xgboost\\core.py:160: UserWarning: [18:12:52] WARNING: C:\\buildkite-agent\\builds\\buildkite-windows-cpu-autoscaling-group-i-0cec3277c4d9d0165-1\\xgboost\\xgboost-ci-windows\\src\\metric\\auc.cc:320: Dataset is empty, or contains only positive or negative samples.\n",
      "  warnings.warn(smsg, UserWarning)\n",
      "c:\\Users\\MINSEOK\\anaconda3\\envs\\torch\\lib\\site-packages\\xgboost\\core.py:160: UserWarning: [18:12:53] WARNING: C:\\buildkite-agent\\builds\\buildkite-windows-cpu-autoscaling-group-i-0cec3277c4d9d0165-1\\xgboost\\xgboost-ci-windows\\src\\metric\\auc.cc:320: Dataset is empty, or contains only positive or negative samples.\n",
      "  warnings.warn(smsg, UserWarning)\n"
     ]
    },
    {
     "name": "stdout",
     "output_type": "stream",
     "text": [
      "[199]\tvalidation_0-auc:nan\n",
      "------------ Fold 2 Done! ------------\n",
      "------------ Fold 3 Start! ------------\n",
      "[0]\tvalidation_0-auc:nan\n"
     ]
    },
    {
     "name": "stderr",
     "output_type": "stream",
     "text": [
      "c:\\Users\\MINSEOK\\anaconda3\\envs\\torch\\lib\\site-packages\\xgboost\\data.py:335: FutureWarning: is_sparse is deprecated and will be removed in a future version. Check `isinstance(dtype, pd.SparseDtype)` instead.\n",
      "  if is_sparse(dtype):\n",
      "c:\\Users\\MINSEOK\\anaconda3\\envs\\torch\\lib\\site-packages\\xgboost\\data.py:338: FutureWarning: is_categorical_dtype is deprecated and will be removed in a future version. Use isinstance(dtype, CategoricalDtype) instead\n",
      "  is_categorical_dtype(dtype) or is_pa_ext_categorical_dtype(dtype)\n",
      "c:\\Users\\MINSEOK\\anaconda3\\envs\\torch\\lib\\site-packages\\xgboost\\data.py:384: FutureWarning: is_categorical_dtype is deprecated and will be removed in a future version. Use isinstance(dtype, CategoricalDtype) instead\n",
      "  if is_categorical_dtype(dtype):\n",
      "c:\\Users\\MINSEOK\\anaconda3\\envs\\torch\\lib\\site-packages\\xgboost\\data.py:359: FutureWarning: is_categorical_dtype is deprecated and will be removed in a future version. Use isinstance(dtype, CategoricalDtype) instead\n",
      "  return is_int or is_bool or is_float or is_categorical_dtype(dtype)\n",
      "c:\\Users\\MINSEOK\\anaconda3\\envs\\torch\\lib\\site-packages\\xgboost\\core.py:160: UserWarning: [18:12:53] WARNING: C:\\buildkite-agent\\builds\\buildkite-windows-cpu-autoscaling-group-i-0cec3277c4d9d0165-1\\xgboost\\xgboost-ci-windows\\src\\common\\error_msg.cc:27: The tree method `gpu_hist` is deprecated since 2.0.0. To use GPU training, set the `device` parameter to CUDA instead.\n",
      "\n",
      "    E.g. tree_method = \"hist\", device = \"cuda\"\n",
      "\n",
      "  warnings.warn(smsg, UserWarning)\n",
      "c:\\Users\\MINSEOK\\anaconda3\\envs\\torch\\lib\\site-packages\\xgboost\\data.py:335: FutureWarning: is_sparse is deprecated and will be removed in a future version. Check `isinstance(dtype, pd.SparseDtype)` instead.\n",
      "  if is_sparse(dtype):\n",
      "c:\\Users\\MINSEOK\\anaconda3\\envs\\torch\\lib\\site-packages\\xgboost\\data.py:338: FutureWarning: is_categorical_dtype is deprecated and will be removed in a future version. Use isinstance(dtype, CategoricalDtype) instead\n",
      "  is_categorical_dtype(dtype) or is_pa_ext_categorical_dtype(dtype)\n",
      "c:\\Users\\MINSEOK\\anaconda3\\envs\\torch\\lib\\site-packages\\xgboost\\data.py:384: FutureWarning: is_categorical_dtype is deprecated and will be removed in a future version. Use isinstance(dtype, CategoricalDtype) instead\n",
      "  if is_categorical_dtype(dtype):\n",
      "c:\\Users\\MINSEOK\\anaconda3\\envs\\torch\\lib\\site-packages\\xgboost\\data.py:359: FutureWarning: is_categorical_dtype is deprecated and will be removed in a future version. Use isinstance(dtype, CategoricalDtype) instead\n",
      "  return is_int or is_bool or is_float or is_categorical_dtype(dtype)\n",
      "c:\\Users\\MINSEOK\\anaconda3\\envs\\torch\\lib\\site-packages\\xgboost\\data.py:335: FutureWarning: is_sparse is deprecated and will be removed in a future version. Check `isinstance(dtype, pd.SparseDtype)` instead.\n",
      "  if is_sparse(dtype):\n",
      "c:\\Users\\MINSEOK\\anaconda3\\envs\\torch\\lib\\site-packages\\xgboost\\data.py:338: FutureWarning: is_categorical_dtype is deprecated and will be removed in a future version. Use isinstance(dtype, CategoricalDtype) instead\n",
      "  is_categorical_dtype(dtype) or is_pa_ext_categorical_dtype(dtype)\n",
      "c:\\Users\\MINSEOK\\anaconda3\\envs\\torch\\lib\\site-packages\\xgboost\\data.py:384: FutureWarning: is_categorical_dtype is deprecated and will be removed in a future version. Use isinstance(dtype, CategoricalDtype) instead\n",
      "  if is_categorical_dtype(dtype):\n",
      "c:\\Users\\MINSEOK\\anaconda3\\envs\\torch\\lib\\site-packages\\xgboost\\data.py:359: FutureWarning: is_categorical_dtype is deprecated and will be removed in a future version. Use isinstance(dtype, CategoricalDtype) instead\n",
      "  return is_int or is_bool or is_float or is_categorical_dtype(dtype)\n",
      "c:\\Users\\MINSEOK\\anaconda3\\envs\\torch\\lib\\site-packages\\xgboost\\data.py:520: FutureWarning: is_sparse is deprecated and will be removed in a future version. Check `isinstance(dtype, pd.SparseDtype)` instead.\n",
      "  if is_sparse(data):\n",
      "c:\\Users\\MINSEOK\\anaconda3\\envs\\torch\\lib\\site-packages\\xgboost\\data.py:335: FutureWarning: is_sparse is deprecated and will be removed in a future version. Check `isinstance(dtype, pd.SparseDtype)` instead.\n",
      "  if is_sparse(dtype):\n",
      "c:\\Users\\MINSEOK\\anaconda3\\envs\\torch\\lib\\site-packages\\xgboost\\data.py:338: FutureWarning: is_categorical_dtype is deprecated and will be removed in a future version. Use isinstance(dtype, CategoricalDtype) instead\n",
      "  is_categorical_dtype(dtype) or is_pa_ext_categorical_dtype(dtype)\n",
      "c:\\Users\\MINSEOK\\anaconda3\\envs\\torch\\lib\\site-packages\\xgboost\\data.py:384: FutureWarning: is_categorical_dtype is deprecated and will be removed in a future version. Use isinstance(dtype, CategoricalDtype) instead\n",
      "  if is_categorical_dtype(dtype):\n",
      "c:\\Users\\MINSEOK\\anaconda3\\envs\\torch\\lib\\site-packages\\xgboost\\data.py:359: FutureWarning: is_categorical_dtype is deprecated and will be removed in a future version. Use isinstance(dtype, CategoricalDtype) instead\n",
      "  return is_int or is_bool or is_float or is_categorical_dtype(dtype)\n",
      "c:\\Users\\MINSEOK\\anaconda3\\envs\\torch\\lib\\site-packages\\xgboost\\data.py:520: FutureWarning: is_sparse is deprecated and will be removed in a future version. Check `isinstance(dtype, pd.SparseDtype)` instead.\n",
      "  if is_sparse(data):\n",
      "c:\\Users\\MINSEOK\\anaconda3\\envs\\torch\\lib\\site-packages\\xgboost\\sklearn.py:885: UserWarning: `eval_metric` in `fit` method is deprecated for better compatibility with scikit-learn, use `eval_metric` in constructor or`set_params` instead.\n",
      "  warnings.warn(\n",
      "c:\\Users\\MINSEOK\\anaconda3\\envs\\torch\\lib\\site-packages\\xgboost\\sklearn.py:885: UserWarning: `early_stopping_rounds` in `fit` method is deprecated for better compatibility with scikit-learn, use `early_stopping_rounds` in constructor or`set_params` instead.\n",
      "  warnings.warn(\n",
      "c:\\Users\\MINSEOK\\anaconda3\\envs\\torch\\lib\\site-packages\\xgboost\\core.py:160: UserWarning: [18:12:53] WARNING: C:\\buildkite-agent\\builds\\buildkite-windows-cpu-autoscaling-group-i-0cec3277c4d9d0165-1\\xgboost\\xgboost-ci-windows\\src\\common\\error_msg.cc:27: The tree method `gpu_hist` is deprecated since 2.0.0. To use GPU training, set the `device` parameter to CUDA instead.\n",
      "\n",
      "    E.g. tree_method = \"hist\", device = \"cuda\"\n",
      "\n",
      "  warnings.warn(smsg, UserWarning)\n",
      "c:\\Users\\MINSEOK\\anaconda3\\envs\\torch\\lib\\site-packages\\xgboost\\core.py:160: UserWarning: [18:12:53] WARNING: C:\\buildkite-agent\\builds\\buildkite-windows-cpu-autoscaling-group-i-0cec3277c4d9d0165-1\\xgboost\\xgboost-ci-windows\\src\\learner.cc:742: \n",
      "Parameters: { \"predictor\" } are not used.\n",
      "\n",
      "  warnings.warn(smsg, UserWarning)\n",
      "c:\\Users\\MINSEOK\\anaconda3\\envs\\torch\\lib\\site-packages\\xgboost\\core.py:160: UserWarning: [18:12:53] WARNING: C:\\buildkite-agent\\builds\\buildkite-windows-cpu-autoscaling-group-i-0cec3277c4d9d0165-1\\xgboost\\xgboost-ci-windows\\src\\metric\\auc.cc:320: Dataset is empty, or contains only positive or negative samples.\n",
      "  warnings.warn(smsg, UserWarning)\n",
      "c:\\Users\\MINSEOK\\anaconda3\\envs\\torch\\lib\\site-packages\\xgboost\\core.py:160: UserWarning: [18:12:54] WARNING: C:\\buildkite-agent\\builds\\buildkite-windows-cpu-autoscaling-group-i-0cec3277c4d9d0165-1\\xgboost\\xgboost-ci-windows\\src\\metric\\auc.cc:320: Dataset is empty, or contains only positive or negative samples.\n",
      "  warnings.warn(smsg, UserWarning)\n"
     ]
    },
    {
     "name": "stdout",
     "output_type": "stream",
     "text": [
      "[199]\tvalidation_0-auc:nan\n",
      "------------ Fold 3 Done! ------------\n",
      "Done!\n"
     ]
    },
    {
     "name": "stderr",
     "output_type": "stream",
     "text": [
      "c:\\Users\\MINSEOK\\anaconda3\\envs\\torch\\lib\\site-packages\\xgboost\\data.py:335: FutureWarning: is_sparse is deprecated and will be removed in a future version. Check `isinstance(dtype, pd.SparseDtype)` instead.\n",
      "  if is_sparse(dtype):\n",
      "c:\\Users\\MINSEOK\\anaconda3\\envs\\torch\\lib\\site-packages\\xgboost\\data.py:338: FutureWarning: is_categorical_dtype is deprecated and will be removed in a future version. Use isinstance(dtype, CategoricalDtype) instead\n",
      "  is_categorical_dtype(dtype) or is_pa_ext_categorical_dtype(dtype)\n",
      "c:\\Users\\MINSEOK\\anaconda3\\envs\\torch\\lib\\site-packages\\xgboost\\data.py:384: FutureWarning: is_categorical_dtype is deprecated and will be removed in a future version. Use isinstance(dtype, CategoricalDtype) instead\n",
      "  if is_categorical_dtype(dtype):\n",
      "c:\\Users\\MINSEOK\\anaconda3\\envs\\torch\\lib\\site-packages\\xgboost\\data.py:359: FutureWarning: is_categorical_dtype is deprecated and will be removed in a future version. Use isinstance(dtype, CategoricalDtype) instead\n",
      "  return is_int or is_bool or is_float or is_categorical_dtype(dtype)\n",
      "c:\\Users\\MINSEOK\\anaconda3\\envs\\torch\\lib\\site-packages\\xgboost\\core.py:160: UserWarning: [18:12:54] WARNING: C:\\buildkite-agent\\builds\\buildkite-windows-cpu-autoscaling-group-i-0cec3277c4d9d0165-1\\xgboost\\xgboost-ci-windows\\src\\common\\error_msg.cc:27: The tree method `gpu_hist` is deprecated since 2.0.0. To use GPU training, set the `device` parameter to CUDA instead.\n",
      "\n",
      "    E.g. tree_method = \"hist\", device = \"cuda\"\n",
      "\n",
      "  warnings.warn(smsg, UserWarning)\n",
      "c:\\Users\\MINSEOK\\anaconda3\\envs\\torch\\lib\\site-packages\\xgboost\\data.py:335: FutureWarning: is_sparse is deprecated and will be removed in a future version. Check `isinstance(dtype, pd.SparseDtype)` instead.\n",
      "  if is_sparse(dtype):\n",
      "c:\\Users\\MINSEOK\\anaconda3\\envs\\torch\\lib\\site-packages\\xgboost\\data.py:338: FutureWarning: is_categorical_dtype is deprecated and will be removed in a future version. Use isinstance(dtype, CategoricalDtype) instead\n",
      "  is_categorical_dtype(dtype) or is_pa_ext_categorical_dtype(dtype)\n",
      "c:\\Users\\MINSEOK\\anaconda3\\envs\\torch\\lib\\site-packages\\xgboost\\data.py:384: FutureWarning: is_categorical_dtype is deprecated and will be removed in a future version. Use isinstance(dtype, CategoricalDtype) instead\n",
      "  if is_categorical_dtype(dtype):\n",
      "c:\\Users\\MINSEOK\\anaconda3\\envs\\torch\\lib\\site-packages\\xgboost\\data.py:359: FutureWarning: is_categorical_dtype is deprecated and will be removed in a future version. Use isinstance(dtype, CategoricalDtype) instead\n",
      "  return is_int or is_bool or is_float or is_categorical_dtype(dtype)\n"
     ]
    },
    {
     "data": {
      "text/plain": [
       "(array([[180672.734375],\n",
       "        [181032.15625 ],\n",
       "        [181856.203125],\n",
       "        ...,\n",
       "        [181664.15625 ],\n",
       "        [181066.5625  ],\n",
       "        [181178.203125]]),\n",
       " array([179939.38541667, 180521.66666667, 180093.28645833, 180053.92708333,\n",
       "        180116.51041667, 179611.97916667, 180053.92708333, 180053.92708333,\n",
       "        180521.66666667, 179872.51041667, 180521.66666667, 180116.51041667,\n",
       "        180093.28645833, 179993.734375  , 179934.234375  , 180053.92708333,\n",
       "        179993.734375  , 179946.79166667, 180381.671875  , 180521.66666667,\n",
       "        179611.97916667, 180381.671875  , 179611.97916667, 180521.66666667,\n",
       "        180053.92708333, 180093.28645833, 179994.69791667, 179611.97916667,\n",
       "        179993.734375  , 180116.51041667, 179611.97916667, 180521.66666667,\n",
       "        180053.92708333, 179611.97916667, 179838.21354167, 180053.92708333,\n",
       "        180053.92708333, 179946.79166667, 179934.234375  , 179872.51041667,\n",
       "        180093.28645833, 180116.51041667, 180053.92708333, 179993.734375  ,\n",
       "        180521.66666667, 179994.69791667, 180116.51041667, 179611.97916667,\n",
       "        179611.97916667, 180342.36979167, 179791.00520833, 179934.234375  ,\n",
       "        180521.66666667, 179611.97916667, 180116.51041667, 179611.97916667,\n",
       "        180521.66666667, 180306.59375   , 180093.28645833, 179611.97916667,\n",
       "        179611.97916667, 180342.36979167, 180116.51041667, 180342.36979167,\n",
       "        180116.51041667, 179872.51041667, 179791.00520833, 180053.92708333,\n",
       "        180306.59375   , 180342.36979167, 180053.92708333, 179791.00520833,\n",
       "        180093.28645833, 180521.66666667, 180053.92708333, 180342.36979167,\n",
       "        180242.86979167, 180116.51041667, 179611.97916667, 179611.97916667,\n",
       "        180116.51041667, 180521.66666667, 179611.97916667, 180093.28645833,\n",
       "        179946.79166667, 179611.97916667, 179611.97916667, 180006.56770833,\n",
       "        180053.92708333, 179611.97916667, 179611.97916667, 179691.58333333,\n",
       "        180006.56770833, 180521.66666667, 180053.92708333, 180053.92708333,\n",
       "        180521.66666667, 179872.51041667, 179791.00520833, 180521.66666667,\n",
       "        179993.734375  , 179611.97916667, 180053.92708333, 180053.92708333,\n",
       "        179691.58333333, 179946.79166667, 179691.58333333, 179791.00520833,\n",
       "        180053.92708333, 179611.97916667, 179611.97916667, 179994.69791667,\n",
       "        180053.92708333, 179937.359375  , 180053.92708333, 180521.66666667,\n",
       "        179611.97916667, 180116.51041667, 180006.56770833, 179993.734375  ,\n",
       "        180116.51041667, 179611.97916667, 180521.66666667, 180053.92708333,\n",
       "        179882.30208333, 180053.92708333, 179611.97916667, 179791.00520833,\n",
       "        179611.97916667, 180053.92708333, 180116.51041667, 180116.51041667,\n",
       "        179691.58333333, 179691.58333333, 179611.97916667, 179691.58333333,\n",
       "        180093.28645833, 179611.97916667, 180053.92708333, 179611.97916667,\n",
       "        180093.28645833, 180053.92708333, 180053.92708333, 180053.92708333,\n",
       "        179993.734375  , 179872.51041667, 180521.66666667, 179934.234375  ,\n",
       "        180381.671875  , 179691.58333333, 180116.51041667, 179994.69791667,\n",
       "        179691.58333333, 180093.28645833, 179611.97916667, 179934.234375  ,\n",
       "        179611.97916667, 180521.66666667, 180053.92708333, 179994.69791667,\n",
       "        179791.00520833, 180053.92708333, 179611.97916667, 180006.56770833,\n",
       "        179994.69791667, 180342.36979167, 179611.97916667, 179993.734375  ,\n",
       "        179994.69791667, 180053.92708333, 180053.92708333, 180342.36979167,\n",
       "        180116.51041667, 180404.85416667, 179994.69791667, 179611.97916667,\n",
       "        180053.92708333, 179993.734375  , 180053.92708333, 180053.92708333,\n",
       "        179611.97916667, 179937.359375  , 179611.97916667, 180093.28645833,\n",
       "        179838.21354167, 180404.85416667, 180116.51041667, 179993.734375  ,\n",
       "        179611.97916667, 180116.51041667, 180521.66666667, 180093.28645833,\n",
       "        179872.51041667, 180342.36979167, 180306.59375   , 180053.92708333,\n",
       "        179611.97916667, 179691.58333333, 180053.92708333, 179611.97916667,\n",
       "        179611.97916667, 179691.58333333, 179791.00520833, 179791.00520833,\n",
       "        179691.58333333, 180521.66666667, 179791.00520833, 179994.69791667,\n",
       "        180306.59375   , 180342.36979167, 179611.97916667, 179611.97916667,\n",
       "        179993.734375  , 179994.69791667, 179994.69791667, 180521.66666667,\n",
       "        179611.97916667, 179791.00520833, 179611.97916667, 179611.97916667,\n",
       "        180053.92708333, 179611.97916667, 180404.85416667, 180053.92708333,\n",
       "        180093.28645833, 179791.00520833, 179611.97916667, 179611.97916667,\n",
       "        180521.66666667, 180053.92708333, 180242.86979167, 180521.66666667,\n",
       "        179939.38541667, 180093.28645833, 180053.92708333, 179934.234375  ,\n",
       "        180093.28645833, 179611.97916667, 179994.69791667, 179611.97916667,\n",
       "        180116.51041667, 180053.92708333, 179691.58333333, 180053.92708333,\n",
       "        180053.92708333, 180381.671875  , 179691.58333333, 179994.69791667,\n",
       "        180116.51041667, 179611.97916667, 180006.56770833, 180242.86979167,\n",
       "        180053.92708333, 180342.36979167, 180521.66666667, 180053.92708333,\n",
       "        179691.58333333, 179994.69791667, 180102.93229167, 180521.66666667,\n",
       "        180053.92708333, 180381.671875  , 179937.359375  , 180521.66666667,\n",
       "        180521.66666667, 179791.00520833, 179994.69791667, 180093.28645833,\n",
       "        180053.92708333, 179691.58333333, 180116.51041667, 179691.58333333,\n",
       "        179611.97916667, 179611.97916667, 179611.97916667, 179994.69791667,\n",
       "        179691.58333333, 180074.046875  , 179691.58333333, 180381.671875  ,\n",
       "        180053.92708333, 180342.36979167, 180053.92708333, 180521.66666667,\n",
       "        180053.92708333, 180342.36979167, 180521.66666667, 179611.97916667,\n",
       "        180342.36979167, 179993.734375  , 180116.51041667, 179993.734375  ]))"
      ]
     },
     "execution_count": 77,
     "metadata": {},
     "output_type": "execute_result"
    }
   ],
   "source": [
    "Stacking_Data_Loader(xgb1, 'xgb', X_train=X_train, Y_train=y_train, X_test=X_test, fold=3)\n"
   ]
  },
  {
   "cell_type": "code",
   "execution_count": null,
   "metadata": {},
   "outputs": [],
   "source": [
    "train_fold_pred, test_pred_mean"
   ]
  }
 ],
 "metadata": {
  "kernelspec": {
   "display_name": "torch",
   "language": "python",
   "name": "python3"
  },
  "language_info": {
   "codemirror_mode": {
    "name": "ipython",
    "version": 3
   },
   "file_extension": ".py",
   "mimetype": "text/x-python",
   "name": "python",
   "nbconvert_exporter": "python",
   "pygments_lexer": "ipython3",
   "version": "3.9.17"
  },
  "orig_nbformat": 4
 },
 "nbformat": 4,
 "nbformat_minor": 2
}
